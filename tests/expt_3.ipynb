{
 "cells": [
  {
   "cell_type": "code",
   "execution_count": 3,
   "metadata": {},
   "outputs": [],
   "source": [
    "import torch\n",
    "from utils.kernel import dist, sq_dist\n",
    "from gpytorch.kernels.kernel import dist as dist_original\n",
    "from gpytorch.kernels.kernel import sq_dist as sq_dist_original"
   ]
  },
  {
   "cell_type": "code",
   "execution_count": 5,
   "metadata": {},
   "outputs": [
    {
     "data": {
      "text/plain": [
       "(tensor([[[0.6127, 0.4604, 0.5398, 0.0479],\n",
       "          [0.6128, 0.0878, 0.3905, 0.8656],\n",
       "          [0.2046, 0.2141, 0.0952, 0.0953]],\n",
       " \n",
       "         [[0.9897, 0.5021, 0.6115, 0.1162],\n",
       "          [0.1772, 0.9120, 0.5050, 0.6552],\n",
       "          [0.0468, 0.7313, 0.2049, 0.5569]]]),\n",
       " tensor([[[0.0174, 0.9005, 0.6092, 0.0043],\n",
       "          [0.3693, 0.5592, 0.6206, 0.2233],\n",
       "          [0.7818, 0.3198, 0.4800, 0.3435]],\n",
       " \n",
       "         [[0.4742, 0.2689, 0.6255, 0.6547],\n",
       "          [0.5971, 0.8579, 0.1799, 0.1350],\n",
       "          [0.2163, 0.7557, 0.5295, 0.5905]]]))"
      ]
     },
     "execution_count": 5,
     "metadata": {},
     "output_type": "execute_result"
    }
   ],
   "source": [
    "x1 = torch.rand(2, 3, 4)\n",
    "y1 = torch.rand(2, 3, 4)\n",
    "\n",
    "x1, y1"
   ]
  },
  {
   "cell_type": "code",
   "execution_count": 8,
   "metadata": {},
   "outputs": [
    {
     "data": {
      "text/plain": [
       "(torch.Size([2, 3, 3]),\n",
       " tensor([[[0.7449, 0.3260, 0.3732],\n",
       "          [1.3434, 0.8643, 0.6024],\n",
       "          [0.8824, 0.6623, 0.7443]],\n",
       " \n",
       "         [[0.7813, 0.6836, 0.9456],\n",
       "          [0.7186, 0.7453, 0.1754],\n",
       "          [0.7636, 0.7053, 0.3685]]]))"
      ]
     },
     "execution_count": 8,
     "metadata": {},
     "output_type": "execute_result"
    }
   ],
   "source": [
    "dist_original(x1, y1).shape, dist_original(x1, y1)"
   ]
  },
  {
   "cell_type": "code",
   "execution_count": 10,
   "metadata": {},
   "outputs": [
    {
     "data": {
      "text/plain": [
       "(torch.Size([2, 2, 3]),\n",
       " tensor([[[1.1485, 1.5874, 1.3159],\n",
       "          [1.0226, 1.7270, 1.4827]],\n",
       " \n",
       "         [[1.4849, 1.0924, 1.6351],\n",
       "          [1.3014, 1.3192, 0.5520]]]))"
      ]
     },
     "execution_count": 10,
     "metadata": {},
     "output_type": "execute_result"
    }
   ],
   "source": [
    "dist(x1, y1).shape, dist(x1, y1)"
   ]
  },
  {
   "cell_type": "code",
   "execution_count": 13,
   "metadata": {},
   "outputs": [],
   "source": [
    "from torchmetrics.functional.pairwise import pairwise_manhattan_distance "
   ]
  },
  {
   "cell_type": "code",
   "execution_count": 11,
   "metadata": {},
   "outputs": [],
   "source": [
    "import torch\n",
    "\n",
    "def dist_3d(x1, x2, x1_eq_x2=False):\n",
    "    x1 = x1.unsqueeze(2)\n",
    "    x2 = x2.unsqueeze(1)\n",
    "    distance = torch.abs(x1 - x2).sum(dim=-1)\n",
    "    return distance.clamp_min_(0)\n"
   ]
  },
  {
   "cell_type": "code",
   "execution_count": null,
   "metadata": {},
   "outputs": [],
   "source": [
    "x1 = "
   ]
  },
  {
   "cell_type": "code",
   "execution_count": 12,
   "metadata": {},
   "outputs": [
    {
     "data": {
      "text/plain": [
       "tensor([[[1.1485, 0.5984, 0.6650],\n",
       "         [2.4881, 1.5874, 1.0126],\n",
       "         [1.4786, 1.1631, 1.3159]],\n",
       "\n",
       "        [[1.3014, 1.1988, 1.5833],\n",
       "         [1.0612, 1.3192, 0.2846],\n",
       "         [1.4083, 1.1238, 0.5520]]])"
      ]
     },
     "execution_count": 12,
     "metadata": {},
     "output_type": "execute_result"
    }
   ],
   "source": [
    "dist_3d(x1, y1)"
   ]
  },
  {
   "cell_type": "code",
   "execution_count": 15,
   "metadata": {},
   "outputs": [
    {
     "data": {
      "text/plain": [
       "tensor([[[0.7449, 0.3260, 0.3732],\n",
       "         [1.3434, 0.8643, 0.6024],\n",
       "         [0.8824, 0.6623, 0.7443]],\n",
       "\n",
       "        [[0.7813, 0.6836, 0.9456],\n",
       "         [0.7186, 0.7453, 0.1754],\n",
       "         [0.7636, 0.7053, 0.3685]]])"
      ]
     },
     "execution_count": 15,
     "metadata": {},
     "output_type": "execute_result"
    }
   ],
   "source": [
    "dist_original(x1, y1)"
   ]
  },
  {
   "cell_type": "code",
   "execution_count": 23,
   "metadata": {},
   "outputs": [
    {
     "data": {
      "text/plain": [
       "3"
      ]
     },
     "execution_count": 23,
     "metadata": {},
     "output_type": "execute_result"
    }
   ],
   "source": [
    "x1.ndim"
   ]
  },
  {
   "cell_type": "code",
   "execution_count": 16,
   "metadata": {},
   "outputs": [],
   "source": [
    "x2 = torch.rand(2,4)\n",
    "y2 = torch.rand(2,4)"
   ]
  },
  {
   "cell_type": "code",
   "execution_count": 17,
   "metadata": {},
   "outputs": [
    {
     "data": {
      "text/plain": [
       "tensor([[1.5857, 2.2379],\n",
       "        [0.6135, 1.3398]])"
      ]
     },
     "execution_count": 17,
     "metadata": {},
     "output_type": "execute_result"
    }
   ],
   "source": [
    "dist(x2, y2)"
   ]
  },
  {
   "cell_type": "code",
   "execution_count": 18,
   "metadata": {},
   "outputs": [
    {
     "data": {
      "text/plain": [
       "tensor([[1.5857, 2.2379],\n",
       "        [0.6135, 1.3398]])"
      ]
     },
     "execution_count": 18,
     "metadata": {},
     "output_type": "execute_result"
    }
   ],
   "source": [
    "pairwise_manhattan_distance(x2,y2)"
   ]
  },
  {
   "cell_type": "code",
   "execution_count": 19,
   "metadata": {},
   "outputs": [
    {
     "data": {
      "text/plain": [
       "tensor([[0.9179, 1.5138, 1.8496, 1.0990],\n",
       "        [1.2217, 1.4865, 2.4927, 1.9908]])"
      ]
     },
     "execution_count": 19,
     "metadata": {},
     "output_type": "execute_result"
    }
   ],
   "source": [
    "dist_3d(x2, y2)"
   ]
  },
  {
   "cell_type": "code",
   "execution_count": 20,
   "metadata": {},
   "outputs": [
    {
     "data": {
      "text/plain": [
       "tensor([[1.5857, 2.2379],\n",
       "        [0.6135, 1.3398]])"
      ]
     },
     "execution_count": 20,
     "metadata": {},
     "output_type": "execute_result"
    }
   ],
   "source": [
    "torch.cdist(x2, y2, p=1)"
   ]
  },
  {
   "cell_type": "code",
   "execution_count": 21,
   "metadata": {},
   "outputs": [
    {
     "data": {
      "text/plain": [
       "tensor([[[1.1485, 0.5984, 0.6650],\n",
       "         [2.4881, 1.5874, 1.0126],\n",
       "         [1.4786, 1.1631, 1.3159]],\n",
       "\n",
       "        [[1.3014, 1.1988, 1.5833],\n",
       "         [1.0612, 1.3192, 0.2846],\n",
       "         [1.4083, 1.1238, 0.5520]]])"
      ]
     },
     "execution_count": 21,
     "metadata": {},
     "output_type": "execute_result"
    }
   ],
   "source": [
    "torch.cdist(x1, y1, p=1)"
   ]
  },
  {
   "cell_type": "code",
   "execution_count": 22,
   "metadata": {},
   "outputs": [
    {
     "data": {
      "text/plain": [
       "tensor([[[1.1485, 0.5984, 0.6650],\n",
       "         [2.4881, 1.5874, 1.0126],\n",
       "         [1.4786, 1.1631, 1.3159]],\n",
       "\n",
       "        [[1.3014, 1.1988, 1.5833],\n",
       "         [1.0612, 1.3192, 0.2846],\n",
       "         [1.4083, 1.1238, 0.5520]]])"
      ]
     },
     "execution_count": 22,
     "metadata": {},
     "output_type": "execute_result"
    }
   ],
   "source": [
    "dist_3d(x1, y1)"
   ]
  },
  {
   "cell_type": "code",
   "execution_count": null,
   "metadata": {},
   "outputs": [],
   "source": []
  }
 ],
 "metadata": {
  "kernelspec": {
   "display_name": "boenv",
   "language": "python",
   "name": "python3"
  },
  "language_info": {
   "codemirror_mode": {
    "name": "ipython",
    "version": 3
   },
   "file_extension": ".py",
   "mimetype": "text/x-python",
   "name": "python",
   "nbconvert_exporter": "python",
   "pygments_lexer": "ipython3",
   "version": "3.10.12"
  },
  "orig_nbformat": 4
 },
 "nbformat": 4,
 "nbformat_minor": 2
}
